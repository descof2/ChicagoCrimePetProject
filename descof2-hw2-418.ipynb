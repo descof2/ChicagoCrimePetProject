{
 "cells": [
  {
   "cell_type": "markdown",
   "metadata": {},
   "source": [
    "Project 2\n",
    "By: Darell Escofe - descof2"
   ]
  },
  {
   "cell_type": "code",
   "execution_count": 1,
   "metadata": {},
   "outputs": [
    {
     "name": "stderr",
     "output_type": "stream",
     "text": [
      "C:\\Users\\Mandy\\Anaconda3\\lib\\site-packages\\IPython\\core\\interactiveshell.py:3058: DtypeWarning: Columns (21) have mixed types. Specify dtype option on import or set low_memory=False.\n",
      "  interactivity=interactivity, compiler=compiler, result=result)\n"
     ]
    },
    {
     "name": "stdout",
     "output_type": "stream",
     "text": [
      "               ID Case Number                    Date                 Block  \\\n",
      "0        11034701    JA366925  01/01/2001 11:00:00 AM       016XX E 86TH PL   \n",
      "1        11227287    JB147188  10/08/2017 03:00:00 AM    092XX S RACINE AVE   \n",
      "2        11227583    JB147595  03/28/2017 02:00:00 PM       026XX W 79TH ST   \n",
      "3        11227293    JB147230  09/09/2017 08:17:00 PM  060XX S EBERHART AVE   \n",
      "4        11227634    JB147599  08/26/2017 10:00:00 AM   001XX W RANDOLPH ST   \n",
      "...           ...         ...                     ...                   ...   \n",
      "7079488  11700926    JC279725  05/26/2019 05:13:00 PM  036XX W DOUGLAS BLVD   \n",
      "7079489     24560    JC279072  05/26/2019 06:48:00 AM   013XX W HASTINGS ST   \n",
      "7079490     24559    JC278908  05/26/2019 02:11:00 AM   013XX W HASTINGS ST   \n",
      "7079491  11707734    JC287730  07/01/2014 07:30:00 AM   063XX S NORMAL BLVD   \n",
      "7079492  11707239    JC287563  11/30/2017 09:00:00 AM   022XX S KOSTNER AVE   \n",
      "\n",
      "         IUCR         Primary Type                          Description  \\\n",
      "0        1153   DECEPTIVE PRACTICE  FINANCIAL IDENTITY THEFT OVER $ 300   \n",
      "1        0281  CRIM SEXUAL ASSAULT                       NON-AGGRAVATED   \n",
      "2        0620             BURGLARY                       UNLAWFUL ENTRY   \n",
      "3        0810                THEFT                            OVER $500   \n",
      "4        0281  CRIM SEXUAL ASSAULT                       NON-AGGRAVATED   \n",
      "...       ...                  ...                                  ...   \n",
      "7079488  2825        OTHER OFFENSE              HARASSMENT BY TELEPHONE   \n",
      "7079489  0110             HOMICIDE                  FIRST DEGREE MURDER   \n",
      "7079490  0110             HOMICIDE                  FIRST DEGREE MURDER   \n",
      "7079491  1153   DECEPTIVE PRACTICE  FINANCIAL IDENTITY THEFT OVER $ 300   \n",
      "7079492  1153   DECEPTIVE PRACTICE  FINANCIAL IDENTITY THEFT OVER $ 300   \n",
      "\n",
      "        Location Description  Arrest  Domestic  ...  Ward  Community Area  \\\n",
      "0                  RESIDENCE   False     False  ...   8.0            45.0   \n",
      "1                  RESIDENCE   False     False  ...  21.0            73.0   \n",
      "2                      OTHER   False     False  ...  18.0            70.0   \n",
      "3                  RESIDENCE   False     False  ...  20.0            42.0   \n",
      "4                HOTEL/MOTEL   False     False  ...  42.0            32.0   \n",
      "...                      ...     ...       ...  ...   ...             ...   \n",
      "7079488            APARTMENT   False      True  ...  24.0            29.0   \n",
      "7079489      CHA PARKING LOT    True     False  ...  25.0            28.0   \n",
      "7079490               STREET   False     False  ...  25.0            28.0   \n",
      "7079491                  NaN   False     False  ...  20.0            68.0   \n",
      "7079492            RESIDENCE   False     False  ...  22.0            29.0   \n",
      "\n",
      "         FBI Code  X Coordinate Y Coordinate  Year              Updated On  \\\n",
      "0              11           NaN          NaN  2001  08/05/2017 03:50:08 PM   \n",
      "1              02           NaN          NaN  2017  02/11/2018 03:57:41 PM   \n",
      "2              05           NaN          NaN  2017  02/11/2018 03:57:41 PM   \n",
      "3              06           NaN          NaN  2017  02/11/2018 03:57:41 PM   \n",
      "4              02           NaN          NaN  2017  02/11/2018 03:57:41 PM   \n",
      "...           ...           ...          ...   ...                     ...   \n",
      "7079488        26     1152126.0    1893208.0  2019  06/30/2019 03:56:27 PM   \n",
      "7079489       01A     1167752.0    1893853.0  2019  07/16/2019 04:17:29 PM   \n",
      "7079490       01A     1167746.0    1893853.0  2019  06/02/2019 04:09:42 PM   \n",
      "7079491        11           NaN          NaN  2014  06/02/2019 04:09:42 PM   \n",
      "7079492        11           NaN          NaN  2017  06/02/2019 04:09:42 PM   \n",
      "\n",
      "          Latitude  Longitude                       Location  \n",
      "0              NaN        NaN                            NaN  \n",
      "1              NaN        NaN                            NaN  \n",
      "2              NaN        NaN                            NaN  \n",
      "3              NaN        NaN                            NaN  \n",
      "4              NaN        NaN                            NaN  \n",
      "...            ...        ...                            ...  \n",
      "7079488  41.862830 -87.717040  (41.862830429, -87.717040084)  \n",
      "7079489  41.864278 -87.659660  (41.864278228, -87.659660218)  \n",
      "7079490  41.864278 -87.659682  (41.864278357, -87.659682244)  \n",
      "7079491        NaN        NaN                            NaN  \n",
      "7079492        NaN        NaN                            NaN  \n",
      "\n",
      "[7079493 rows x 22 columns]\n",
      "Done\n",
      "\n"
     ]
    }
   ],
   "source": [
    "import pandas as pd\n",
    "import matplotlib.pyplot as plt\n",
    "# use a matplot when ploting values rather than a dataframe\n",
    "\n",
    "fileLocation = \"C:\\\\Users\\\\Mandy\\\\Downloads\\\\CrimesChicago.csv\" # CHANGE ACCORDINGLY \n",
    "df = pd.read_csv(fileLocation)\n",
    "print(df)\n",
    "\n",
    "print(\"Done\\n\")"
   ]
  },
  {
   "cell_type": "code",
   "execution_count": 68,
   "metadata": {},
   "outputs": [
    {
     "name": "stdout",
     "output_type": "stream",
     "text": [
      "Done cleaning...\n"
     ]
    }
   ],
   "source": [
    "# Step 1\n",
    "# Cleaning the data\n",
    "df.fillna(\"MissingValue\")\n",
    "print(\"Done cleaning...\")"
   ]
  },
  {
   "cell_type": "code",
   "execution_count": 28,
   "metadata": {},
   "outputs": [],
   "source": [
    "# Step 2\n",
    "# Insight about crime in relation to date and time\n",
    "df['Date'] = pd.to_datetime(df.Date)"
   ]
  },
  {
   "cell_type": "code",
   "execution_count": 114,
   "metadata": {},
   "outputs": [
    {
     "name": "stdout",
     "output_type": "stream",
     "text": [
      "Sring Crimes: 1785145\n",
      "Summer Crimes: 1928455\n",
      "Fall Crimes: 1776270\n",
      "Winter Crimes: 1589623\n"
     ]
    },
    {
     "data": {
      "image/png": "[encoded data removed]",
      "text/plain": [
       "<Figure size 432x288 with 1 Axes>"
      ]
     },
     "metadata": {
      "needs_background": "light"
     },
     "output_type": "display_data"
    }
   ],
   "source": [
    "# Number of crimes per season\n",
    "\n",
    "#Meteorological Seasons \n",
    "springMonths = [3,4,5] # Spring starts March 1 and ends May 31 so months 3,4,5 \n",
    "springCrimes = 0\n",
    "\n",
    "summerMonths = [6,7,8] # Summer starts June 1 and ends August 31 so months 6,7,8\n",
    "summerCrimes = 0\n",
    "\n",
    "fallMonths = [9,10,11] # Fall starts September 1 and ends November 30 so months 9,10,11\n",
    "fallCrimes = 0\n",
    "\n",
    "winterMonths = [12,1,2] # Winter starts December 1 and ends February 28 (29 on leap years) so months 12,1,2\n",
    "winterCrimes = 0\n",
    "\n",
    "monthsSeries = df['Date'].dt.month.values\n",
    "\n",
    "\n",
    "for i in monthsSeries:\n",
    "    if i in springMonths:\n",
    "        springCrimes += 1 \n",
    "    elif i in summerMonths:\n",
    "        summerCrimes += 1 \n",
    "    elif i in fallMonths:\n",
    "        fallCrimes += 1\n",
    "    elif i in winterMonths:\n",
    "        winterCrimes += 1\n",
    "        \n",
    "print(\"Sring Crimes:\", springCrimes)\n",
    "print(\"Summer Crimes:\", summerCrimes)\n",
    "print(\"Fall Crimes:\", fallCrimes)\n",
    "print(\"Winter Crimes:\", winterCrimes)\n",
    "\n",
    "seasonNames = [\"Spring\",\"Summer\",\"Fall\",\"Winter\"]\n",
    "plt.scatter(seasonNames,[springCrimes,summerCrimes,fallCrimes,winterCrimes])\n",
    "plt.ylabel(\"Crimes\")\n",
    "plt.xlabel(\"Seaons\")\n",
    "plt.show()\n",
    "# Usually what we see is that as the weather warms up, crime increases and as the weather cools crime decreases\n",
    "# Commonly there are less people outside when it is cold, thus less crimes."
   ]
  },
  {
   "cell_type": "code",
   "execution_count": 73,
   "metadata": {},
   "outputs": [
    {
     "name": "stdout",
     "output_type": "stream",
     "text": [
      "Crimes by month\n"
     ]
    },
    {
     "data": {
      "text/plain": [
       "7     655576\n",
       "8     648985\n",
       "5     626859\n",
       "6     623894\n",
       "10    614674\n",
       "9     608118\n",
       "4     580221\n",
       "3     578065\n",
       "1     567836\n",
       "11    553478\n",
       "12    525373\n",
       "2     496414\n",
       "Name: Date, dtype: int64"
      ]
     },
     "execution_count": 73,
     "metadata": {},
     "output_type": "execute_result"
    }
   ],
   "source": [
    "# Number of crimes by month\n",
    "print(\"Crimes by month\")\n",
    "df['Date'].dt.month.value_counts()"
   ]
  },
  {
   "cell_type": "code",
   "execution_count": 187,
   "metadata": {},
   "outputs": [
    {
     "name": "stdout",
     "output_type": "stream",
     "text": [
      "Crimes during the day: 3627629\n",
      "Crimes during the night: 3451864\n"
     ]
    }
   ],
   "source": [
    "# Number of crimes during the day and night\n",
    "# Day time will consist of 6am-5:59pm and night time will be 6pm-5:59am\n",
    "# In miltiary time this would be 06:00-15:59 or day and 16:00-05:59 for night \n",
    "dayCrimes = 0\n",
    "nightCrimes = 0\n",
    "\n",
    "timeSeries = df['Date'].dt.hour\n",
    "\n",
    "# Military hours lists\n",
    "dayList = [6,7,8,9,10,11,12,13,14,15,16,17]\n",
    "nightList = [18,19,20,21,22,23,0,1,2,3,4,5]\n",
    "\n",
    "for i in timeSeries.values:\n",
    "    if i in dayList:\n",
    "        dayCrimes += 1 \n",
    "    elif i in nightList:\n",
    "        nightCrimes += 1 \n",
    "        \n",
    "print(\"Crimes during the day:\", dayCrimes)\n",
    "print(\"Crimes during the night:\", nightCrimes)"
   ]
  },
  {
   "cell_type": "code",
   "execution_count": 66,
   "metadata": {},
   "outputs": [
    {
     "name": "stdout",
     "output_type": "stream",
     "text": [
      "Crimes by weekday occurence\n"
     ]
    },
    {
     "data": {
      "text/plain": [
       "Friday       1065995\n",
       "Wednesday    1019724\n",
       "Tuesday      1013553\n",
       "Saturday     1013012\n",
       "Thursday     1010042\n",
       "Monday        999339\n",
       "Sunday        957828\n",
       "Name: Date, dtype: int64"
      ]
     },
     "execution_count": 66,
     "metadata": {},
     "output_type": "execute_result"
    }
   ],
   "source": [
    "# Number of crimes per day of the week \n",
    "print(\"Crimes by weekday occurence\")\n",
    "df['Date'].dt.weekday_name.value_counts()"
   ]
  },
  {
   "cell_type": "code",
   "execution_count": 13,
   "metadata": {
    "scrolled": false
   },
   "outputs": [
    {
     "name": "stdout",
     "output_type": "stream",
     "text": [
      "       TotalCrimes\n",
      "Years             \n",
      "2001        485763\n",
      "2002        486762\n",
      "2003        475954\n",
      "2004        469391\n",
      "2005        453722\n",
      "2006        448131\n",
      "2007        437035\n",
      "2008        427082\n",
      "2009        392743\n",
      "2010        370372\n",
      "2011        351847\n",
      "2012        336081\n",
      "2013        307228\n",
      "2014        275448\n",
      "2015        264334\n",
      "2016        269307\n",
      "2017        268518\n",
      "2018        267935\n",
      "2019        258589\n",
      "2020         33251\n"
     ]
    },
    {
     "data": {
      "text/plain": [
       "<matplotlib.axes._subplots.AxesSubplot at 0x28b62d9fc08>"
      ]
     },
     "execution_count": 13,
     "metadata": {},
     "output_type": "execute_result"
    },
    {
     "data": {
      "image/png": "[encoded data removed]",
      "text/plain": [
       "<Figure size 432x288 with 1 Axes>"
      ]
     },
     "metadata": {
      "needs_background": "light"
     },
     "output_type": "display_data"
    }
   ],
   "source": [
    "# Step 3\n",
    "# Number of crimes per year with visual \n",
    "\n",
    "crimesByYear = df['Year'].value_counts().sort_index().rename_axis('Years').to_frame('TotalCrimes')\n",
    "\n",
    "print(crimesByYear)\n",
    "\n",
    "crimesByYear.plot.bar()"
   ]
  },
  {
   "cell_type": "markdown",
   "metadata": {},
   "source": [
    "Above we can see crime from the years 2001-2020, with the x axis representing the years and the y axis representing total crimes. As we can see, there was a steady decrease of crime from the years 2001-2014 with it normalizing around ~268000 crimes per year. The year 2020 is far lower because we are only 3 months into the year."
   ]
  },
  {
   "cell_type": "code",
   "execution_count": 186,
   "metadata": {
    "scrolled": true
   },
   "outputs": [
    {
     "name": "stdout",
     "output_type": "stream",
     "text": [
      "Total Crimes: 7079493\n",
      "Crimes without an arrest: 5136433 with 72.55368428219366 % not arrested\n",
      "Crimes with an arrest: 1943060 with 27.446315717806346 % arrested\n"
     ]
    }
   ],
   "source": [
    "# Step 4\n",
    "# Calculate how many crimes actually ended with an arrest\n",
    "\n",
    "# First calculate total number of arrests / total number of rows\n",
    "totalCrimes = df.shape[0]  # gives number of row count\n",
    "print(\"Total Crimes:\", totalCrimes)\n",
    "#print(df['Arrest'].value_counts())\n",
    "arrestedSeries = df['Arrest'].value_counts().values # First element is false, second element is true\n",
    "print(\"Crimes without an arrest:\", arrestedSeries[0], \"with\",(float)(arrestedSeries[0]) / (float)(totalCrimes) * 100, \"% not arrested\")\n",
    "print(\"Crimes with an arrest:\", arrestedSeries[1], \"with\", (float)(arrestedSeries[1]) / (float)(totalCrimes) * 100, \"% arrested\")\n",
    "\n",
    "# Break down each crime by its arrest % \n"
   ]
  },
  {
   "cell_type": "code",
   "execution_count": 168,
   "metadata": {},
   "outputs": [
    {
     "name": "stdout",
     "output_type": "stream",
     "text": [
      "Top 5 wards with the most crime:\n",
      "      TotalCrimes\n",
      "Ward             \n",
      "28.0       296285\n",
      "42.0       266848\n",
      "24.0       255160\n",
      "2.0        243975\n",
      "27.0       238151\n"
     ]
    }
   ],
   "source": [
    "# Step 5\n",
    "# Locations with high crime\n",
    "print(\"Top 5 wards with the most crime:\")\n",
    "crimesByWard = df['Ward'].value_counts().rename_axis('Ward').to_frame('TotalCrimes').head()\n",
    "print(crimesByWard)"
   ]
  },
  {
   "cell_type": "code",
   "execution_count": 8,
   "metadata": {},
   "outputs": [
    {
     "name": "stdout",
     "output_type": "stream",
     "text": [
      "starting..\n",
      "Domestic crimes account for 13.281756193557928 % of all crimes in Chicago from 2001-2020\n",
      "Total domestic crimes: 940281 and those with an arrest: 184715  with an overall arrest rate of: 19.64465941564277 %\n"
     ]
    },
    {
     "data": {
      "image/png": "[encoded data removed]",
      "text/plain": [
       "<Figure size 432x288 with 1 Axes>"
      ]
     },
     "metadata": {},
     "output_type": "display_data"
    }
   ],
   "source": [
    "# Step 6\n",
    "# Percentage of domestic crimes that ended in arrest with visualization\n",
    "print(\"starting..\")\n",
    "\n",
    "domesticCountWithArrest = 0\n",
    "domesticCrimeCount = 0\n",
    "\n",
    "for index, row in df.iterrows():\n",
    "    if row['Domestic']: # if domestic == true\n",
    "        domesticCrimeCount += 1\n",
    "    if row['Domestic'] and row['Arrest']: # if domestic == true and arrest == true\n",
    "        domesticCountWithArrest += 1\n",
    "print(\"Domestic crimes account for\", (float)(domesticCrimeCount) / (float)(totalCrimes) *100,\"%\", \"of all crimes in Chicago from 2001-2020\")        \n",
    "print(\"Total domestic crimes:\", domesticCrimeCount,\"and those with an arrest:\", domesticCountWithArrest, \" with an overall arrest rate of:\", \n",
    "        (float)(domesticCountWithArrest) / (float)(domesticCrimeCount) * 100, \"%\")\n",
    "\n",
    "labels = 'Not arrested', 'Arrested'\n",
    "# This pie chart will display domestic crimes as a whole, with the two slice showing domestic crimes that resulted\n",
    "# in an arrest and those that did not\n",
    "plt.pie([domesticCrimeCount-domesticCountWithArrest, domesticCountWithArrest] , labels = labels, autopct='%.2f') \n",
    "plt.show()\n"
   ]
  },
  {
   "cell_type": "code",
   "execution_count": 165,
   "metadata": {},
   "outputs": [
    {
     "name": "stdout",
     "output_type": "stream",
     "text": [
      "Crimes on Valentine's Day 2/14: 17761\n",
      "Crimes on the 4th of July 7/4: 20520\n",
      "Crimes on St.Patrick's Day 3/17: 19063\n",
      "Crimes on christmas 12/25: 200214\n",
      "Crimes on New Years Eve 12/31: 15637\n",
      "Crimes on New Years Day 1/1: 30290\n"
     ]
    },
    {
     "data": {
      "image/png": "[encoded data removed]",
      "text/plain": [
       "<Figure size 648x216 with 1 Axes>"
      ]
     },
     "metadata": {
      "needs_background": "light"
     },
     "output_type": "display_data"
    }
   ],
   "source": [
    "# Step 7 \n",
    "\n",
    "# Check crimes by major holidays\n",
    "\n",
    "daysSeries = df['Date'].dt.day.values\n",
    "\n",
    "christmasDayCrimes = 0\n",
    "valentineCrimes = 0\n",
    "newYearsEveCrimes = 0\n",
    "newYearsDayCrimes = 0\n",
    "stPatricksCrimes = 0\n",
    "independenceDayCrimes = 0\n",
    "\n",
    "for i,j in zip(monthsSeries, daysSeries):\n",
    "    if  i == 12 and j == 25:\n",
    "        christmasCrimes += 1\n",
    "    \n",
    "    elif i == 2 and j == 14:\n",
    "        valentineCrimes += 1\n",
    "        \n",
    "    elif i == 12 and j == 31:\n",
    "        newYearsEveCrimes += 1\n",
    "        \n",
    "    elif i == 1 and j == 1:\n",
    "        newYearsDayCrimes += 1\n",
    "        \n",
    "    elif i == 3 and j == 17:\n",
    "        stPatricksCrimes += 1\n",
    "    \n",
    "    elif i == 7 and j == 4:\n",
    "        independenceDayCrimes += 1\n",
    "    \n",
    "print(\"Crimes on Valentine's Day 2/14:\", valentineCrimes)\n",
    "print(\"Crimes on the 4th of July 7/4:\", independenceDayCrimes)\n",
    "print(\"Crimes on St.Patrick's Day 3/17:\", stPatricksCrimes)\n",
    "print(\"Crimes on christmas 12/25:\", christmasCrimes)\n",
    "print(\"Crimes on New Years Eve 12/31:\", newYearsEveCrimes)\n",
    "print(\"Crimes on New Years Day 1/1:\", newYearsDayCrimes)\n",
    "\n",
    "holidayNames = [\"V-Day\",\"Fourth of July\",\"St Patrick's Day\",\"Christmas Day\", \"New Year's Eve\",\"New Year's Day\"]\n",
    "plt.figure(figsize=(9,3))\n",
    "plt.bar(holidayNames, [valentineCrimes,independenceDayCrimes,stPatricksCrimes,christmasCrimes,newYearsEveCrimes,newYearsDayCrimes])\n",
    "plt.ylabel(\"Crimes\")\n",
    "plt.xticks(rotation=90)\n",
    "plt.show()\n",
    "\n",
    "# Crimes that occur on St.Patrick's Day"
   ]
  },
  {
   "cell_type": "markdown",
   "metadata": {},
   "source": [
    "In the graph for crimes by holidays we can see Christmas Day has much more crime compared to the other crime which was surprising."
   ]
  }
 ],
 "metadata": {
  "kernelspec": {
   "display_name": "Python 3",
   "language": "python",
   "name": "python3"
  },
  "language_info": {
   "codemirror_mode": {
    "name": "ipython",
    "version": 3
   },
   "file_extension": ".py",
   "mimetype": "text/x-python",
   "name": "python",
   "nbconvert_exporter": "python",
   "pygments_lexer": "ipython3",
   "version": "3.7.4"
  }
 },
 "nbformat": 4,
 "nbformat_minor": 2
}
